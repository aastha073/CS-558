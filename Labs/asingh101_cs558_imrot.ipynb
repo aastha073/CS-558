{
  "nbformat": 4,
  "nbformat_minor": 0,
  "metadata": {
    "colab": {
      "provenance": []
    },
    "kernelspec": {
      "name": "python3",
      "display_name": "Python 3"
    },
    "language_info": {
      "name": "python"
    }
  },
  "cells": [
    {
      "cell_type": "code",
      "execution_count": null,
      "metadata": {
        "id": "pCMTUv6N5M8M"
      },
      "outputs": [],
      "source": [
        "import os\n",
        "import cv2\n",
        "import numpy as np\n",
        "import matplotlib.pyplot as plt"
      ]
    },
    {
      "cell_type": "code",
      "source": [
        "def bilinear(image, row, col):\n",
        "    \"\"\"\n",
        "    Return the interpolated value for row, col in image.\n",
        "    Assume rol, col are non-negative and less than the width and height of image -1\n",
        "\n",
        "    Input- image: H x W\n",
        "    row, col: floating point scalar\n",
        "    Output - value: scalar\n",
        "    \"\"\"\n",
        "    H, W = image.shape\n",
        "    row_int = int(row)\n",
        "    col_int = int(col)\n",
        "    row_frac = row - row_int\n",
        "    col_frac = col - col_int\n",
        "\n",
        "    value = 0\n",
        "\n",
        "    return value\n"
      ],
      "metadata": {
        "id": "L8PnQ0bh5OKa"
      },
      "execution_count": null,
      "outputs": []
    },
    {
      "cell_type": "code",
      "source": [
        "def imshow(image, *args, **kwargs):\n",
        "    if len(image.shape) == 3:\n",
        "      # Height, width, channels\n",
        "      # Assume BGR, do a conversion since\n",
        "      image = cv2.cvtColor(image, cv2.COLOR_BGR2RGB)\n",
        "    else:\n",
        "      # Height, width - must be grayscale\n",
        "      # convert to RGB, since matplotlib will plot in a weird colormap (instead of black = 0, white = 1)\n",
        "      image = cv2.cvtColor(image, cv2.COLOR_GRAY2RGB)\n",
        "    # Draw the image\n",
        "    plt.imshow(image, *args, **kwargs)\n",
        "    # We'll also disable drawing the axes and tick marks in the plot, since it's actually an image\n",
        "    plt.axis('off')\n",
        "    # Make sure it outputs\n",
        "    plt.show()"
      ],
      "metadata": {
        "id": "pNWpzjb65tAO"
      },
      "execution_count": null,
      "outputs": []
    },
    {
      "cell_type": "code",
      "source": [
        "from google.colab import drive\n",
        "drive.mount('/content/gdrive', force_remount=True)\n",
        "rootpath = '/content/gdrive/MyDrive/cs558_resources/imrot'\n",
        "input = cv2.imread(os.path.join(rootpath, \"bnw_small.png\"))\n",
        "input = cv2.cvtColor(input, cv2.COLOR_BGR2GRAY)\n",
        "imshow(input)\n",
        "\n",
        "output = np.zeros((int(1.45*input.shape[0]), int(1.45*input.shape[1])),dtype='uint8')\n",
        "\n",
        "theta = 0\n",
        "\n",
        "# consider both nearest-neighbor and bilinear interpolation\n",
        "\n",
        "imshow(output)\n"
      ],
      "metadata": {
        "id": "Y7ZJhZFv5Pmw"
      },
      "execution_count": null,
      "outputs": []
    }
  ]
}