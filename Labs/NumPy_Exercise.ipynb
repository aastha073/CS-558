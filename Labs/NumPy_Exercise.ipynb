{
  "nbformat": 4,
  "nbformat_minor": 0,
  "metadata": {
    "kernelspec": {
      "display_name": "Python 3",
      "language": "python",
      "name": "python3"
    },
    "language_info": {
      "codemirror_mode": {
        "name": "ipython",
        "version": 3
      },
      "file_extension": ".py",
      "mimetype": "text/x-python",
      "name": "python",
      "nbconvert_exporter": "python",
      "pygments_lexer": "ipython3",
      "version": "3.7.4"
    },
    "varInspector": {
      "cols": {
        "lenName": 16,
        "lenType": 16,
        "lenVar": 40
      },
      "kernels_config": {
        "python": {
          "delete_cmd_postfix": "",
          "delete_cmd_prefix": "del ",
          "library": "var_list.py",
          "varRefreshCmd": "print(var_dic_list())"
        },
        "r": {
          "delete_cmd_postfix": ") ",
          "delete_cmd_prefix": "rm(",
          "library": "var_list.r",
          "varRefreshCmd": "cat(var_dic_list()) "
        }
      },
      "types_to_exclude": [
        "module",
        "function",
        "builtin_function_or_method",
        "instance",
        "_Feature"
      ],
      "window_display": false
    },
    "colab": {
      "provenance": []
    }
  },
  "cells": [
    {
      "cell_type": "markdown",
      "metadata": {
        "id": "QuUAgQFQlsJU"
      },
      "source": [
        "# Python for Computer Vision and Data Science\n",
        "## 6.819 / 6.869 Python Tutorial (2/8/2022, 2/9/2022)\n",
        "Written by Julie Ganeshan (MIT) \\\n",
        "Taught by Prafull Sharma, Shuang Li, Lucy Chai (MIT) \\\n",
        "Parts adapted from http://cs231n.github.io/python-numpy-tutorial/\n",
        "(Numpy topics are inspired by this, Matplotlib section is taken verbatim)\n",
        "Modified by Philippos Mordohai (Sep, 2024)"
      ]
    },
    {
      "cell_type": "markdown",
      "metadata": {
        "id": "GVOsLEGclsJZ"
      },
      "source": [
        "# Contents\n",
        "\n",
        "Note: this tutorial is geared towards students **experienced in Python, and general programming** and aims to introduce you to some of the libraries we use in computer vision, and other compute intensive tasks.\n",
        "\n",
        "Table of Contents\n",
        "- [Numpy (Numerical Python)](#Numpy)\n",
        "    - Arrays, Matrices, and Tensors - the *ndarray*\n",
        "    - Indexing into arrays\n",
        "    - Elementwise, Matrix math and Broadcasting\n",
        "    - Other operators\n",
        "    \n",
        "- [Matplotlib (Plotting and Visualization)](#Matplotlib)\n",
        "    - Basic plots\n",
        "    - Figures\n",
        "    \n",
        "- [OpenCV (Computer Vision)](#OpenCV)\n",
        "    - Reading images\n",
        "    - Channels, Image Formats, and using images as arrays\n",
        "    - Showing images\n",
        "    - Basic image operations - Resize, Color, and more\n",
        "    - Working with Video"
      ]
    },
    {
      "cell_type": "markdown",
      "metadata": {
        "id": "weMMc2WZlsJc"
      },
      "source": [
        "# Initilization"
      ]
    },
    {
      "cell_type": "code",
      "metadata": {
        "id": "Gpvh7PPVlsJg"
      },
      "source": [
        "import os\n",
        "import cv2\n",
        "import numpy as np\n",
        "import matplotlib.pyplot as plt"
      ],
      "execution_count": 1,
      "outputs": []
    },
    {
      "cell_type": "code",
      "metadata": {
        "id": "bPWkPZ-3lsJ3"
      },
      "source": [
        "import numpy as np"
      ],
      "execution_count": 2,
      "outputs": []
    },
    {
      "cell_type": "markdown",
      "metadata": {
        "id": "IRelpfS8lsJz"
      },
      "source": [
        "# Numpy\n",
        "\n",
        "Numpy is a numerical library that provides **_tons_** of useful functions for scalar, array, and matrix types. We'll only go into a small scratch of numpy.\n",
        "\n",
        "**Why numpy instead of regular `for` loops**? \\\n",
        "In addition to the convenience of not redesigning the wheel, much of Numpy is built directly in C++ and is well optimized, so it runs *very* fast\n",
        "\n",
        "Let's import numpy now! It is customary to call it `np`, since you need to reference it a lot.\n",
        "\n",
        "Documentation: https://numpy.org/doc/stable/reference/index.html"
      ]
    },
    {
      "cell_type": "markdown",
      "metadata": {
        "id": "TsPlWndglsKD"
      },
      "source": [
        "## Arrays, Matrices, and Tensors"
      ]
    },
    {
      "cell_type": "markdown",
      "metadata": {
        "id": "-0UBbo9nlsKG"
      },
      "source": [
        "One of the most important primitives in numpy is the `np.array` - this represents a fixed-size array (or list) of elements.\n",
        "\n",
        "Unlike Python lists, numpy arrays **MUST HAVE THE SAME TYPE**. The types allowed by numpy are below. Note that you have greater control over how much space is used by each datatype than Python primitives:\n",
        "- float16, float32, float64 (decimal values)\n",
        "- int8, int16, int32, int64 (integers)\n",
        "- uint8, uint16, uint32, uint64 (unsigned, or positive, integers)\n",
        "- bool (boolean)\n",
        "- complex64, complex128 (Complex numbers, represented as 2 floats)\n",
        "\n",
        "All of these types have a default size that you can access with `np.float`, `np.int`, and so on.\n",
        "\n",
        "Let's make an array from a Python list!"
      ]
    },
    {
      "cell_type": "code",
      "metadata": {
        "id": "jeE2XSFmmLLI",
        "colab": {
          "base_uri": "https://localhost:8080/"
        },
        "outputId": "75a470df-f8ab-4ab5-e3ba-33e4e664b538"
      },
      "source": [
        "# expected_name = \"2021_PythonTutorial_6869.ipynb\"\n",
        "\n",
        "# Colab specific setup\n",
        "try:\n",
        "  from google.colab import drive\n",
        "\n",
        "except Exception:\n",
        "  # Local setup\n",
        "  rootpath = \".\"\n",
        "\n",
        "else:\n",
        "  drive.mount('/content/gdrive', force_remount=True)\n",
        "  rootpath = '/content/gdrive/MyDrive/cs_558/data'\n",
        "\n"
      ],
      "execution_count": 3,
      "outputs": [
        {
          "output_type": "stream",
          "name": "stdout",
          "text": [
            "Mounted at /content/gdrive\n"
          ]
        }
      ]
    },
    {
      "cell_type": "code",
      "source": [
        "a = np.array([1, 2, 3])\n",
        "b = np.array([10, 20, 30])\n",
        "print(\"A is %s. B is %s\" % (repr(a), repr(b)))\n",
        "print(\"Object Type:\", type(a))"
      ],
      "metadata": {
        "id": "yWBEeZBLUmBl",
        "colab": {
          "base_uri": "https://localhost:8080/"
        },
        "outputId": "25f49ae6-8ef7-4657-99a2-321d24aa7353"
      },
      "execution_count": 4,
      "outputs": [
        {
          "output_type": "stream",
          "name": "stdout",
          "text": [
            "A is array([1, 2, 3]). B is array([10, 20, 30])\n",
            "Object Type: <class 'numpy.ndarray'>\n"
          ]
        }
      ]
    },
    {
      "cell_type": "markdown",
      "metadata": {
        "id": "rxLQlv98lsKg"
      },
      "source": [
        "Let's see what type numpy inferred from our data"
      ]
    },
    {
      "cell_type": "code",
      "metadata": {
        "id": "P5s8HH06lsKj",
        "colab": {
          "base_uri": "https://localhost:8080/"
        },
        "outputId": "2526a5d6-bb49-4597-fc45-d8de4e0495d4"
      },
      "source": [
        "a.dtype"
      ],
      "execution_count": 5,
      "outputs": [
        {
          "output_type": "execute_result",
          "data": {
            "text/plain": [
              "dtype('int64')"
            ]
          },
          "metadata": {},
          "execution_count": 5
        }
      ]
    },
    {
      "cell_type": "markdown",
      "metadata": {
        "id": "nwLVHVtFlsKv"
      },
      "source": [
        "You can get a casted version of an array using the function `astype`"
      ]
    },
    {
      "cell_type": "code",
      "metadata": {
        "id": "xanNWFpwlsK0",
        "colab": {
          "base_uri": "https://localhost:8080/"
        },
        "outputId": "833908a2-d476-422b-8abf-aa2cb019885d"
      },
      "source": [
        "a.astype(complex)"
      ],
      "execution_count": 6,
      "outputs": [
        {
          "output_type": "execute_result",
          "data": {
            "text/plain": [
              "array([1.+0.j, 2.+0.j, 3.+0.j])"
            ]
          },
          "metadata": {},
          "execution_count": 6
        }
      ]
    },
    {
      "cell_type": "markdown",
      "metadata": {
        "id": "8Yxd-jJqlsK_"
      },
      "source": [
        "We can access elements of an array using the same `[]` notation we're used to. We can even use negatives to index from the end, and make slices."
      ]
    },
    {
      "cell_type": "code",
      "metadata": {
        "id": "_r4tMqNzlsLC",
        "colab": {
          "base_uri": "https://localhost:8080/"
        },
        "outputId": "ebfcef05-61fe-4f53-cf34-489a3faed2f6"
      },
      "source": [
        "print(a[1])\n",
        "print(b[-1]) # it wraps around!\n",
        "print(repr(a[0:3:2]))"
      ],
      "execution_count": 7,
      "outputs": [
        {
          "output_type": "stream",
          "name": "stdout",
          "text": [
            "2\n",
            "30\n",
            "array([1, 3])\n"
          ]
        }
      ]
    },
    {
      "cell_type": "markdown",
      "metadata": {
        "id": "tZTqTerwlsLP"
      },
      "source": [
        "Since arrays have a fixed size, we can get this size as a tuple using the `shape` attribute - you can't set this though!"
      ]
    },
    {
      "cell_type": "code",
      "metadata": {
        "id": "2_HeIgCnlsLT",
        "colab": {
          "base_uri": "https://localhost:8080/"
        },
        "outputId": "a93f0f29-7bcf-43aa-c1ad-e97510e82efe"
      },
      "source": [
        "print(a.shape)\n",
        "print(b.shape)"
      ],
      "execution_count": 8,
      "outputs": [
        {
          "output_type": "stream",
          "name": "stdout",
          "text": [
            "(3,)\n",
            "(3,)\n"
          ]
        }
      ]
    },
    {
      "cell_type": "markdown",
      "metadata": {
        "id": "NcFvaJAxlsLg"
      },
      "source": [
        "We can also change elements of the array - we just can't add new elements"
      ]
    },
    {
      "cell_type": "code",
      "metadata": {
        "id": "X2IBQgOIlsLk",
        "colab": {
          "base_uri": "https://localhost:8080/"
        },
        "outputId": "dbe8f2f0-4579-418e-daf1-031ae74381c7"
      },
      "source": [
        "a[0] = 100\n",
        "print(repr(a))"
      ],
      "execution_count": 9,
      "outputs": [
        {
          "output_type": "stream",
          "name": "stdout",
          "text": [
            "array([100,   2,   3])\n"
          ]
        }
      ]
    },
    {
      "cell_type": "markdown",
      "metadata": {
        "id": "u1xAr63xlsLw"
      },
      "source": [
        "Since `a` and `b` are numpy arrays, we can do math with them now! These operations, by default, will happen out-of-place (a new array will be created to store the result)"
      ]
    },
    {
      "cell_type": "code",
      "metadata": {
        "id": "7GxTc80tlsLz",
        "colab": {
          "base_uri": "https://localhost:8080/"
        },
        "outputId": "4562e1a4-4ebf-4612-f7f1-2ed603d7e771"
      },
      "source": [
        "print(\"Numpy math:\")\n",
        "print(a,\"+\",b,\"=\",a + b)\n",
        "\n",
        "# If they weren't numpy arrays\n",
        "print(\"\\nVanilla Python List math:\")\n",
        "print(list(a),\"+\",list(b),\"=\",list(a) + list(b))"
      ],
      "execution_count": 10,
      "outputs": [
        {
          "output_type": "stream",
          "name": "stdout",
          "text": [
            "Numpy math:\n",
            "[100   2   3] + [10 20 30] = [110  22  33]\n",
            "\n",
            "Vanilla Python List math:\n",
            "[np.int64(100), np.int64(2), np.int64(3)] + [np.int64(10), np.int64(20), np.int64(30)] = [np.int64(100), np.int64(2), np.int64(3), np.int64(10), np.int64(20), np.int64(30)]\n"
          ]
        }
      ]
    },
    {
      "cell_type": "markdown",
      "metadata": {
        "id": "3mTuX0yAlsL-"
      },
      "source": [
        "This is a small example, but we'll soon see more complicated operations numpy arrays can perform!"
      ]
    },
    {
      "cell_type": "markdown",
      "metadata": {
        "id": "J7ijTZXQlsMC"
      },
      "source": [
        "### Adding Dimensions\n",
        "We can also make matrices, by simply giving the constructor the correct shape of data"
      ]
    },
    {
      "cell_type": "code",
      "metadata": {
        "id": "34cv7N9nlsMI",
        "colab": {
          "base_uri": "https://localhost:8080/"
        },
        "outputId": "74d243ab-72cb-4fc1-8a72-8bcfdcbd1d9e"
      },
      "source": [
        "my_matrix = np.array(\n",
        "    [\n",
        "        [1, 2, 3],\n",
        "        [4, 5, 6]\n",
        "    ]\n",
        ")\n",
        "print(repr(my_matrix))"
      ],
      "execution_count": 11,
      "outputs": [
        {
          "output_type": "stream",
          "name": "stdout",
          "text": [
            "array([[1, 2, 3],\n",
            "       [4, 5, 6]])\n"
          ]
        }
      ]
    },
    {
      "cell_type": "markdown",
      "metadata": {
        "id": "WkUIK3i4lsMS"
      },
      "source": [
        "Now, using shape will be more helpful - note that you couldn't get this shape with a Python list!"
      ]
    },
    {
      "cell_type": "code",
      "metadata": {
        "id": "qARpdnhelsMV",
        "colab": {
          "base_uri": "https://localhost:8080/"
        },
        "outputId": "bda75a68-01f3-47f8-96f6-42cf4dda8686"
      },
      "source": [
        "print(my_matrix.shape)"
      ],
      "execution_count": 12,
      "outputs": [
        {
          "output_type": "stream",
          "name": "stdout",
          "text": [
            "(2, 3)\n"
          ]
        }
      ]
    },
    {
      "cell_type": "markdown",
      "metadata": {
        "id": "cjt2c_ZnlsMh"
      },
      "source": [
        "We can access matrix elements using each of their indices in order. (All dimensions are 0-indexed)"
      ]
    },
    {
      "cell_type": "code",
      "metadata": {
        "id": "PQxw9AN_lsMk",
        "colab": {
          "base_uri": "https://localhost:8080/"
        },
        "outputId": "5a22fa5c-24cd-4d51-86c6-36ca6c5e7bad"
      },
      "source": [
        "print(my_matrix[0,2]) # Get row 0, column 2. The order of these indices matches their respective maximums in shape."
      ],
      "execution_count": 13,
      "outputs": [
        {
          "output_type": "stream",
          "name": "stdout",
          "text": [
            "3\n"
          ]
        }
      ]
    },
    {
      "cell_type": "markdown",
      "metadata": {
        "id": "hXJwgdR9lsM0"
      },
      "source": [
        "We can still use slices, and negative indexing. Slicing a row or column from a matrix gives us a 1d array!"
      ]
    },
    {
      "cell_type": "code",
      "metadata": {
        "id": "ufOBsi-llsM5",
        "colab": {
          "base_uri": "https://localhost:8080/"
        },
        "outputId": "6655f73f-5239-41fd-b0c6-3acc256209c2"
      },
      "source": [
        "# Get row 0, all columns except the last one\n",
        "print(repr(my_matrix[0,:-1]))\n",
        "\n",
        "# Get columns 1 and 2.\n",
        "print(repr(my_matrix[:, 1:3]))"
      ],
      "execution_count": 14,
      "outputs": [
        {
          "output_type": "stream",
          "name": "stdout",
          "text": [
            "array([1, 2])\n",
            "array([[2, 3],\n",
            "       [5, 6]])\n"
          ]
        }
      ]
    },
    {
      "cell_type": "markdown",
      "metadata": {
        "id": "9uW_xhnqlsNM"
      },
      "source": [
        "We can also still index into this as an outer-array"
      ]
    },
    {
      "cell_type": "code",
      "metadata": {
        "id": "ovj7O-0mlsNP",
        "colab": {
          "base_uri": "https://localhost:8080/"
        },
        "outputId": "73e5d3a6-ddd7-4979-8dc3-35b15f61ca12"
      },
      "source": [
        "# Gets the 0th element of the outer array - that's the 0th row!\n",
        "print(repr(my_matrix[0]))"
      ],
      "execution_count": 15,
      "outputs": [
        {
          "output_type": "stream",
          "name": "stdout",
          "text": [
            "array([1, 2, 3])\n"
          ]
        }
      ]
    },
    {
      "cell_type": "markdown",
      "metadata": {
        "id": "UIkyPTQtlsNd"
      },
      "source": [
        "**NOTE:** Matrices in numpy MUST be rectangular. Unlike nested Python lists, which can have the first list contain 1 element, and the second list contain 3 elements, in a numpy matrix, all rows have to have the same length. In other words, the matrix cannot be \"jagged\""
      ]
    },
    {
      "cell_type": "markdown",
      "metadata": {
        "id": "AdUEoK8PlsNh"
      },
      "source": [
        "Matrices, and other multi-dimensional arrays, are stored in \"row-major\" format - that is, elements of a row are stored next to each other.\n",
        "\n",
        "So, in this way, we can think of a multidimensional matrix as a single contiguous array, where shapes are just a human abstraction. Let's get this matrix as a 1d array.\n",
        "\n",
        "Note: flatten() is similar to ravel() but it creates a copy of the data, while ravel() creates a new view of the same data, when possible."
      ]
    },
    {
      "cell_type": "code",
      "metadata": {
        "id": "WezpQGbUlsNq",
        "colab": {
          "base_uri": "https://localhost:8080/"
        },
        "outputId": "51f5d158-b21f-4561-8804-2d97400804eb"
      },
      "source": [
        "print(my_matrix.ravel())"
      ],
      "execution_count": 16,
      "outputs": [
        {
          "output_type": "stream",
          "name": "stdout",
          "text": [
            "[1 2 3 4 5 6]\n"
          ]
        }
      ]
    },
    {
      "cell_type": "markdown",
      "metadata": {
        "id": "5Gu6uF9AlsOH"
      },
      "source": [
        "So, we can actually shape these 6 elements into whatever shape we want! This can be useful to create high dimensional arrays."
      ]
    },
    {
      "cell_type": "code",
      "metadata": {
        "id": "75xHCDVElsOL",
        "colab": {
          "base_uri": "https://localhost:8080/"
        },
        "outputId": "209ae3a2-fe23-4cf5-e824-4998cfd7bcb4"
      },
      "source": [
        "my_reshaped_matrix = my_matrix.reshape((3,2))\n",
        "my_reshaped_matrix"
      ],
      "execution_count": 17,
      "outputs": [
        {
          "output_type": "execute_result",
          "data": {
            "text/plain": [
              "array([[1, 2],\n",
              "       [3, 4],\n",
              "       [5, 6]])"
            ]
          },
          "metadata": {},
          "execution_count": 17
        }
      ]
    },
    {
      "cell_type": "markdown",
      "metadata": {
        "id": "kPGcM7iUlsOa"
      },
      "source": [
        "Unless you explicitly use `np.copy`, Reshapes and slices create *views* of your data - that is, they all reference the same data! So, since the variables are all aliases to the same data, changes to one will reflect in all the others! This is a double-edged sword that can boost your performance, but might catch you off guard."
      ]
    },
    {
      "cell_type": "code",
      "metadata": {
        "id": "FBF6eDCvlsOd",
        "colab": {
          "base_uri": "https://localhost:8080/"
        },
        "outputId": "89582c05-2347-4f83-b6df-de81c0874658"
      },
      "source": [
        "print(\"Original my_matrix\")\n",
        "print(repr(my_matrix))\n",
        "print(\"Original my_reshaped_matrix\")\n",
        "print(repr(my_reshaped_matrix))\n",
        "\n",
        "# Change an element\n",
        "print(\"===MAKING A CHANGE===\")\n",
        "my_matrix[0,0] = 100 - my_matrix[0, 0]\n",
        "\n",
        "print(\"New my_matrix\")\n",
        "print(repr(my_matrix))\n",
        "print(\"New my_reshaped_matrix\")\n",
        "print(repr(my_reshaped_matrix))"
      ],
      "execution_count": 18,
      "outputs": [
        {
          "output_type": "stream",
          "name": "stdout",
          "text": [
            "Original my_matrix\n",
            "array([[1, 2, 3],\n",
            "       [4, 5, 6]])\n",
            "Original my_reshaped_matrix\n",
            "array([[1, 2],\n",
            "       [3, 4],\n",
            "       [5, 6]])\n",
            "===MAKING A CHANGE===\n",
            "New my_matrix\n",
            "array([[99,  2,  3],\n",
            "       [ 4,  5,  6]])\n",
            "New my_reshaped_matrix\n",
            "array([[99,  2],\n",
            "       [ 3,  4],\n",
            "       [ 5,  6]])\n"
          ]
        }
      ]
    },
    {
      "cell_type": "markdown",
      "metadata": {
        "id": "iax2QveulsOw"
      },
      "source": [
        "### The third dimension and beyond\n",
        "\n",
        "We were able to add a dimension to a 1d array to make a 2d matrix.\n",
        "In fact, numpy can handle even more dimensions!\n",
        "In computer vision, we often will use 3 dimensions worth of data (Height x Width x 3 colors)\n",
        "\n",
        "A \"matrix\" with 3 or more dimensions is called a *Tensor*.  \n",
        "Let's make a 2 x 3 x 4 tensor (2 stacked 3x4 matrices)"
      ]
    },
    {
      "cell_type": "code",
      "metadata": {
        "id": "G7X_1MEqlsO1",
        "colab": {
          "base_uri": "https://localhost:8080/"
        },
        "outputId": "cc4e8651-8d37-410a-aae4-a05abbd5296b"
      },
      "source": [
        "my_tensor = np.array(range(2*3*4)).reshape(2,3,4)\n",
        "print(my_tensor)"
      ],
      "execution_count": 19,
      "outputs": [
        {
          "output_type": "stream",
          "name": "stdout",
          "text": [
            "[[[ 0  1  2  3]\n",
            "  [ 4  5  6  7]\n",
            "  [ 8  9 10 11]]\n",
            "\n",
            " [[12 13 14 15]\n",
            "  [16 17 18 19]\n",
            "  [20 21 22 23]]]\n"
          ]
        }
      ]
    },
    {
      "cell_type": "markdown",
      "metadata": {
        "id": "jLAg8eaAlsO8"
      },
      "source": [
        "We can use a tensor like any matrix or array"
      ]
    },
    {
      "cell_type": "code",
      "metadata": {
        "id": "s4aNEjs1lsO9",
        "colab": {
          "base_uri": "https://localhost:8080/"
        },
        "outputId": "ae2a92fd-148d-4343-f10c-a42767088e7c"
      },
      "source": [
        "# Get the 0th matrix slice, the 1st row of that matrix, and the 2nd column of that row\n",
        "print(my_tensor[0,1,2])"
      ],
      "execution_count": 20,
      "outputs": [
        {
          "output_type": "stream",
          "name": "stdout",
          "text": [
            "6\n"
          ]
        }
      ]
    },
    {
      "cell_type": "markdown",
      "metadata": {
        "id": "j1Rz7PmnlsPF"
      },
      "source": [
        "### Array Creation\n",
        "Numpy also provides several convenience functions to help you make make empty ndarrays"
      ]
    },
    {
      "cell_type": "code",
      "metadata": {
        "id": "KGixnygUlsPI"
      },
      "source": [
        "desired_shape = (2,3)"
      ],
      "execution_count": 21,
      "outputs": []
    },
    {
      "cell_type": "markdown",
      "metadata": {
        "id": "K2aU2SuRlsPN"
      },
      "source": [
        "Some useful ones:\n",
        "- zeros: Creates an array filled with zeros\n",
        "- ones: An array of ones\n",
        "- eye: The identity matrix I (needs 1 integer for square size)\n",
        "- full: Fills with an element\n",
        "- np.random.random: Random between 0 and 1\n",
        "- np.random.randn: Random normal"
      ]
    },
    {
      "cell_type": "code",
      "metadata": {
        "id": "0tj2E41OlsPP",
        "colab": {
          "base_uri": "https://localhost:8080/"
        },
        "outputId": "0091c8ac-afeb-48de-9aaa-5307aa2e1d3d"
      },
      "source": [
        "print(repr(  np.zeros(desired_shape)          ), end=\"\\n\\n\")\n",
        "print(repr(  np.ones(desired_shape)           ), end=\"\\n\\n\")\n",
        "print(repr(  np.eye(3)                        ), end=\"\\n\\n\")\n",
        "print(repr(  np.full(desired_shape, 7)        ), end=\"\\n\\n\")\n",
        "print(repr(  np.random.random(desired_shape)  ), end=\"\\n\\n\")"
      ],
      "execution_count": 22,
      "outputs": [
        {
          "output_type": "stream",
          "name": "stdout",
          "text": [
            "array([[0., 0., 0.],\n",
            "       [0., 0., 0.]])\n",
            "\n",
            "array([[1., 1., 1.],\n",
            "       [1., 1., 1.]])\n",
            "\n",
            "array([[1., 0., 0.],\n",
            "       [0., 1., 0.],\n",
            "       [0., 0., 1.]])\n",
            "\n",
            "array([[7, 7, 7],\n",
            "       [7, 7, 7]])\n",
            "\n",
            "array([[0.78800288, 0.40644786, 0.73485186],\n",
            "       [0.84793872, 0.02573935, 0.67962397]])\n",
            "\n"
          ]
        }
      ]
    },
    {
      "cell_type": "markdown",
      "metadata": {
        "id": "p-k3yNZRlsPW"
      },
      "source": [
        "They are float32's by default, but we can also choose the datatype of the created array"
      ]
    },
    {
      "cell_type": "code",
      "metadata": {
        "id": "xDo_j0_elsPY",
        "colab": {
          "base_uri": "https://localhost:8080/"
        },
        "outputId": "931c1256-8e3e-44dd-d18a-b66dd17ca283"
      },
      "source": [
        "np.eye(3, dtype=int)"
      ],
      "execution_count": 23,
      "outputs": [
        {
          "output_type": "execute_result",
          "data": {
            "text/plain": [
              "array([[1, 0, 0],\n",
              "       [0, 1, 0],\n",
              "       [0, 0, 1]])"
            ]
          },
          "metadata": {},
          "execution_count": 23
        }
      ]
    },
    {
      "cell_type": "markdown",
      "metadata": {
        "id": "cglN-VeGlsPd"
      },
      "source": [
        "## Array Indexing"
      ]
    },
    {
      "cell_type": "markdown",
      "metadata": {
        "id": "6MKuMsnblsPj"
      },
      "source": [
        "We've already done a lot of indexing into arrays above, but let's look at some more details"
      ]
    },
    {
      "cell_type": "code",
      "metadata": {
        "id": "XiCgaCR9lsPk",
        "colab": {
          "base_uri": "https://localhost:8080/"
        },
        "outputId": "0f18ef36-7599-46df-eb86-d37af1fefb09"
      },
      "source": [
        "my_tensor = np.array(range(2*3*4)).reshape(2,3,4).astype(int)\n",
        "my_tensor"
      ],
      "execution_count": 24,
      "outputs": [
        {
          "output_type": "execute_result",
          "data": {
            "text/plain": [
              "array([[[ 0,  1,  2,  3],\n",
              "        [ 4,  5,  6,  7],\n",
              "        [ 8,  9, 10, 11]],\n",
              "\n",
              "       [[12, 13, 14, 15],\n",
              "        [16, 17, 18, 19],\n",
              "        [20, 21, 22, 23]]])"
            ]
          },
          "metadata": {},
          "execution_count": 24
        }
      ]
    },
    {
      "cell_type": "markdown",
      "metadata": {
        "id": "ZCGNxWnVlsPu"
      },
      "source": [
        "### Getting Elements\n",
        "We can get elements by fully specifying the index"
      ]
    },
    {
      "cell_type": "code",
      "metadata": {
        "id": "q1MNo2yWlsPw",
        "colab": {
          "base_uri": "https://localhost:8080/"
        },
        "outputId": "b8a39621-af1a-4359-aacc-27b421fa430d"
      },
      "source": [
        "my_tensor[0,1,2]"
      ],
      "execution_count": 25,
      "outputs": [
        {
          "output_type": "execute_result",
          "data": {
            "text/plain": [
              "np.int64(6)"
            ]
          },
          "metadata": {},
          "execution_count": 25
        }
      ]
    },
    {
      "cell_type": "markdown",
      "metadata": {
        "id": "U2zellPGlsP1"
      },
      "source": [
        "If we partially specify the index (in order), since this is a list-of-lists, basically, we'll get \"rows\" (or matrices, if taking parts of a tensor"
      ]
    },
    {
      "cell_type": "code",
      "metadata": {
        "id": "cb9PtRoclsP3",
        "colab": {
          "base_uri": "https://localhost:8080/"
        },
        "outputId": "455a207b-682e-4ae9-cfd3-65692a84a522"
      },
      "source": [
        "my_tensor[0]"
      ],
      "execution_count": 26,
      "outputs": [
        {
          "output_type": "execute_result",
          "data": {
            "text/plain": [
              "array([[ 0,  1,  2,  3],\n",
              "       [ 4,  5,  6,  7],\n",
              "       [ 8,  9, 10, 11]])"
            ]
          },
          "metadata": {},
          "execution_count": 26
        }
      ]
    },
    {
      "cell_type": "code",
      "metadata": {
        "id": "e7bFnquClsP8",
        "colab": {
          "base_uri": "https://localhost:8080/"
        },
        "outputId": "aa59f571-f06c-445b-9924-807276eba956"
      },
      "source": [
        "my_tensor[0, 0]"
      ],
      "execution_count": 27,
      "outputs": [
        {
          "output_type": "execute_result",
          "data": {
            "text/plain": [
              "array([0, 1, 2, 3])"
            ]
          },
          "metadata": {},
          "execution_count": 27
        }
      ]
    },
    {
      "cell_type": "markdown",
      "metadata": {
        "id": "uo0r2zUYlsQH"
      },
      "source": [
        "By this logic, we can also keep adding square brackets (get the matrix, then the row, then the column)."
      ]
    },
    {
      "cell_type": "code",
      "metadata": {
        "id": "mmxBD63HlsQL",
        "colab": {
          "base_uri": "https://localhost:8080/"
        },
        "outputId": "91fca32a-51c0-4d3e-9f7d-8612f5357f6c"
      },
      "source": [
        "my_tensor[0][0]"
      ],
      "execution_count": 28,
      "outputs": [
        {
          "output_type": "execute_result",
          "data": {
            "text/plain": [
              "array([0, 1, 2, 3])"
            ]
          },
          "metadata": {},
          "execution_count": 28
        }
      ]
    },
    {
      "cell_type": "markdown",
      "metadata": {
        "id": "cnu9vSm2lsQW"
      },
      "source": [
        "We can also use standard slice notation. Again, we don't have to specify all the dimensions"
      ]
    },
    {
      "cell_type": "code",
      "metadata": {
        "id": "2l4uM8talsQY",
        "colab": {
          "base_uri": "https://localhost:8080/"
        },
        "outputId": "1ff314b6-d15b-4990-bb1b-bd723bad5e92"
      },
      "source": [
        "my_tensor[0, 0:2]"
      ],
      "execution_count": 29,
      "outputs": [
        {
          "output_type": "execute_result",
          "data": {
            "text/plain": [
              "array([[0, 1, 2, 3],\n",
              "       [4, 5, 6, 7]])"
            ]
          },
          "metadata": {},
          "execution_count": 29
        }
      ]
    },
    {
      "cell_type": "markdown",
      "metadata": {
        "id": "sNcr8ZiulsQd"
      },
      "source": [
        "### Setting elements\n",
        "\n",
        "We can set elements that we index to"
      ]
    },
    {
      "cell_type": "code",
      "metadata": {
        "id": "HGVgxGdClsQf",
        "colab": {
          "base_uri": "https://localhost:8080/"
        },
        "outputId": "9a6386bb-6e4b-446b-9f45-3dac10224721"
      },
      "source": [
        "my_tensor[0, 0, 0] = 100\n",
        "my_tensor"
      ],
      "execution_count": 30,
      "outputs": [
        {
          "output_type": "execute_result",
          "data": {
            "text/plain": [
              "array([[[100,   1,   2,   3],\n",
              "        [  4,   5,   6,   7],\n",
              "        [  8,   9,  10,  11]],\n",
              "\n",
              "       [[ 12,  13,  14,  15],\n",
              "        [ 16,  17,  18,  19],\n",
              "        [ 20,  21,  22,  23]]])"
            ]
          },
          "metadata": {},
          "execution_count": 30
        }
      ]
    },
    {
      "cell_type": "markdown",
      "metadata": {
        "id": "Gi-LHTp_lsQm"
      },
      "source": [
        "We can also set blocks / slices that we index into, as long as the shapes match!"
      ]
    },
    {
      "cell_type": "code",
      "metadata": {
        "id": "3a7_ftSqlsQo",
        "colab": {
          "base_uri": "https://localhost:8080/"
        },
        "outputId": "338df288-19d6-4d00-a5da-f6d333e4afcc"
      },
      "source": [
        "# Get the 0th matrix slice. Rows 1 and 2. Get every other column starting from 0\n",
        "my_tensor[0,1:3,0::2]"
      ],
      "execution_count": 31,
      "outputs": [
        {
          "output_type": "execute_result",
          "data": {
            "text/plain": [
              "array([[ 4,  6],\n",
              "       [ 8, 10]])"
            ]
          },
          "metadata": {},
          "execution_count": 31
        }
      ]
    },
    {
      "cell_type": "code",
      "metadata": {
        "id": "nHPPR42nlsQt",
        "colab": {
          "base_uri": "https://localhost:8080/"
        },
        "outputId": "1f3659ee-5a9e-46f1-c014-d07812a52bb9"
      },
      "source": [
        "replacement = (np.eye(2, dtype=int) + 2) * 100\n",
        "replacement"
      ],
      "execution_count": 32,
      "outputs": [
        {
          "output_type": "execute_result",
          "data": {
            "text/plain": [
              "array([[300, 200],\n",
              "       [200, 300]])"
            ]
          },
          "metadata": {},
          "execution_count": 32
        }
      ]
    },
    {
      "cell_type": "code",
      "metadata": {
        "id": "ENDMmY3WlsQ0",
        "colab": {
          "base_uri": "https://localhost:8080/"
        },
        "outputId": "efd7cf44-61a4-4866-8425-a1caf062d4e2"
      },
      "source": [
        "my_tensor[0, 1:3, 0::2] = replacement\n",
        "my_tensor"
      ],
      "execution_count": 33,
      "outputs": [
        {
          "output_type": "execute_result",
          "data": {
            "text/plain": [
              "array([[[100,   1,   2,   3],\n",
              "        [300,   5, 200,   7],\n",
              "        [200,   9, 300,  11]],\n",
              "\n",
              "       [[ 12,  13,  14,  15],\n",
              "        [ 16,  17,  18,  19],\n",
              "        [ 20,  21,  22,  23]]])"
            ]
          },
          "metadata": {},
          "execution_count": 33
        }
      ]
    },
    {
      "cell_type": "markdown",
      "metadata": {
        "id": "LTABPyeIlsQ8"
      },
      "source": [
        "### Using Boolean and Integer Arrays as indices\n",
        "\n",
        "What if we want some sort of permutation of the tensor, that's not easy to express in slice notation?\n",
        "\n",
        "We can index into an array using an array of integers!\n",
        "\n",
        "Let's test this out on a small array first.\n"
      ]
    },
    {
      "cell_type": "code",
      "metadata": {
        "id": "I9Wunm3ilsRE",
        "colab": {
          "base_uri": "https://localhost:8080/"
        },
        "outputId": "6b43d895-c88d-4da9-f39d-a39fa81b8b86"
      },
      "source": [
        "my_array = np.array(range(5)) * 10 + 3\n",
        "my_array"
      ],
      "execution_count": 34,
      "outputs": [
        {
          "output_type": "execute_result",
          "data": {
            "text/plain": [
              "array([ 3, 13, 23, 33, 43])"
            ]
          },
          "metadata": {},
          "execution_count": 34
        }
      ]
    },
    {
      "cell_type": "code",
      "metadata": {
        "id": "7Sv0NxJ8lsRM",
        "colab": {
          "base_uri": "https://localhost:8080/"
        },
        "outputId": "4b513993-670c-4d63-cb4f-de3f7c055c26"
      },
      "source": [
        "# We want the elements in this order\n",
        "array_of_indices = np.array([4,1,3,0,2])\n",
        "array_of_indices"
      ],
      "execution_count": 35,
      "outputs": [
        {
          "output_type": "execute_result",
          "data": {
            "text/plain": [
              "array([4, 1, 3, 0, 2])"
            ]
          },
          "metadata": {},
          "execution_count": 35
        }
      ]
    },
    {
      "cell_type": "markdown",
      "metadata": {
        "id": "RWPj6Jx9lsRR"
      },
      "source": [
        "Let's index into our array with our index-array!"
      ]
    },
    {
      "cell_type": "code",
      "metadata": {
        "id": "O34Fauc7lsRS",
        "colab": {
          "base_uri": "https://localhost:8080/"
        },
        "outputId": "f333e3c0-e8fe-48b3-88fd-812dc435e305"
      },
      "source": [
        "my_array[array_of_indices]"
      ],
      "execution_count": 36,
      "outputs": [
        {
          "output_type": "execute_result",
          "data": {
            "text/plain": [
              "array([43, 13, 33,  3, 23])"
            ]
          },
          "metadata": {},
          "execution_count": 36
        }
      ]
    },
    {
      "cell_type": "markdown",
      "metadata": {
        "id": "_hKOdDO7lsRX"
      },
      "source": [
        "The shape of the output is determined by the index-array. We can use this to make complicated shapes, repeat elements, or exclude elements!"
      ]
    },
    {
      "cell_type": "code",
      "metadata": {
        "id": "DyIvHAPhlsRZ",
        "colab": {
          "base_uri": "https://localhost:8080/"
        },
        "outputId": "41a8edd9-7150-4a08-b3a0-2a5a00b72808"
      },
      "source": [
        "# Make a selector array\n",
        "selector = (np.random.random((6,4)) * len(my_array)).astype(int)\n",
        "selector"
      ],
      "execution_count": 37,
      "outputs": [
        {
          "output_type": "execute_result",
          "data": {
            "text/plain": [
              "array([[1, 4, 4, 1],\n",
              "       [1, 4, 2, 2],\n",
              "       [0, 3, 2, 4],\n",
              "       [2, 0, 0, 0],\n",
              "       [2, 0, 2, 1],\n",
              "       [0, 3, 0, 3]])"
            ]
          },
          "metadata": {},
          "execution_count": 37
        }
      ]
    },
    {
      "cell_type": "code",
      "metadata": {
        "id": "ncub78F9lsRo",
        "colab": {
          "base_uri": "https://localhost:8080/"
        },
        "outputId": "3d9ee833-993b-42e7-961c-db432947cb86"
      },
      "source": [
        "# Now, we can use these to get elements from our original array!\n",
        "my_array[selector]"
      ],
      "execution_count": 38,
      "outputs": [
        {
          "output_type": "execute_result",
          "data": {
            "text/plain": [
              "array([[13, 43, 43, 13],\n",
              "       [13, 43, 23, 23],\n",
              "       [ 3, 33, 23, 43],\n",
              "       [23,  3,  3,  3],\n",
              "       [23,  3, 23, 13],\n",
              "       [ 3, 33,  3, 33]])"
            ]
          },
          "metadata": {},
          "execution_count": 38
        }
      ]
    },
    {
      "cell_type": "markdown",
      "metadata": {
        "id": "uXxyPFaNlsRy"
      },
      "source": [
        "We can also use boolean arrays (masks) of the same size as the input, to get a part of the output!"
      ]
    },
    {
      "cell_type": "code",
      "metadata": {
        "id": "3RTyoSWglsR1",
        "colab": {
          "base_uri": "https://localhost:8080/"
        },
        "outputId": "c6dac443-1d39-48b1-f667-00d099d087f2"
      },
      "source": [
        "my_mask = np.array([1, 0, 0, 1, 1], dtype=bool)\n",
        "my_mask"
      ],
      "execution_count": 39,
      "outputs": [
        {
          "output_type": "execute_result",
          "data": {
            "text/plain": [
              "array([ True, False, False,  True,  True])"
            ]
          },
          "metadata": {},
          "execution_count": 39
        }
      ]
    },
    {
      "cell_type": "code",
      "metadata": {
        "id": "sfz7P2zhlsR7",
        "colab": {
          "base_uri": "https://localhost:8080/"
        },
        "outputId": "7d757276-1139-4977-cba7-076213d4917a"
      },
      "source": [
        "print(\"Original\")\n",
        "print(repr(my_array))\n",
        "print(\"Masked with\",repr(my_mask))\n",
        "print(repr(my_array[my_mask]))"
      ],
      "execution_count": 40,
      "outputs": [
        {
          "output_type": "stream",
          "name": "stdout",
          "text": [
            "Original\n",
            "array([ 3, 13, 23, 33, 43])\n",
            "Masked with array([ True, False, False,  True,  True])\n",
            "array([ 3, 33, 43])\n"
          ]
        }
      ]
    },
    {
      "cell_type": "markdown",
      "metadata": {
        "id": "hF-Sh9z8lsSC"
      },
      "source": [
        "This is indexing - so we can also SET elements like this!"
      ]
    },
    {
      "cell_type": "code",
      "metadata": {
        "id": "Lkq7xsL4lsSD",
        "colab": {
          "base_uri": "https://localhost:8080/"
        },
        "outputId": "d71b48d7-3b53-4e52-c10b-011f383d1b24"
      },
      "source": [
        "print(repr(my_array))\n",
        "replacement = np.array([600, 700, 800])\n",
        "my_array[my_mask] = replacement\n",
        "print(repr(my_array))"
      ],
      "execution_count": 41,
      "outputs": [
        {
          "output_type": "stream",
          "name": "stdout",
          "text": [
            "array([ 3, 13, 23, 33, 43])\n",
            "array([600,  13,  23, 700, 800])\n"
          ]
        }
      ]
    },
    {
      "cell_type": "markdown",
      "metadata": {
        "id": "f4pYwWZUlsSJ"
      },
      "source": [
        "The `<` and `>` operators return masks - so you can use these to mask the original array, or even other arrays!"
      ]
    },
    {
      "cell_type": "code",
      "metadata": {
        "id": "AM26CBJilsSK",
        "colab": {
          "base_uri": "https://localhost:8080/"
        },
        "outputId": "52efdee3-b849-473a-d138-7a9a1033feb5"
      },
      "source": [
        "my_array > 20"
      ],
      "execution_count": 42,
      "outputs": [
        {
          "output_type": "execute_result",
          "data": {
            "text/plain": [
              "array([ True, False,  True,  True,  True])"
            ]
          },
          "metadata": {},
          "execution_count": 42
        }
      ]
    },
    {
      "cell_type": "code",
      "metadata": {
        "id": "l67F-Z5klsSU",
        "colab": {
          "base_uri": "https://localhost:8080/"
        },
        "outputId": "dbe1cd32-eb32-4651-ebeb-8515fd68b0d8"
      },
      "source": [
        "my_array[my_array > 20]"
      ],
      "execution_count": 43,
      "outputs": [
        {
          "output_type": "execute_result",
          "data": {
            "text/plain": [
              "array([600,  23, 700, 800])"
            ]
          },
          "metadata": {},
          "execution_count": 43
        }
      ]
    },
    {
      "cell_type": "markdown",
      "metadata": {
        "id": "68P4RBS3lsSZ"
      },
      "source": [
        "These concepts all hold in multiple dimensions as well"
      ]
    },
    {
      "cell_type": "markdown",
      "metadata": {
        "id": "wn4EUsu3lsSa"
      },
      "source": [
        "### Elementwise- and Matrix Math\n",
        "\n",
        "Indexing and creating arrays is cool, but the real power of Numpy is doing math using those arrays."
      ]
    },
    {
      "cell_type": "markdown",
      "metadata": {
        "id": "K2qjvNr7lsSb"
      },
      "source": [
        "The basic mathematical operators (+, -, /, \\*, %) are treated as \"elementwise\" operators - they do something with each element. Which operands are used depends on a concept called \"broadcasting\". In practice - if you have two ndarrays of the same shape, then the operands will be corresponding elements in each ndarray. Otherwise, if possible, the smaller ndarray/scalar is repeated to be the same size as the larger array."
      ]
    },
    {
      "cell_type": "code",
      "metadata": {
        "id": "xKbDvKXflsSd",
        "colab": {
          "base_uri": "https://localhost:8080/"
        },
        "outputId": "4b38c073-0f90-48de-a42e-e086346e18be"
      },
      "source": [
        "a = np.array(range(10)).reshape(2,5)\n",
        "b = np.array(range(100,1100,100)).reshape(2,5)\n",
        "print(\"a =\",repr(  a  ))\n",
        "print(\"b =\",repr(  b  ))"
      ],
      "execution_count": 44,
      "outputs": [
        {
          "output_type": "stream",
          "name": "stdout",
          "text": [
            "a = array([[0, 1, 2, 3, 4],\n",
            "       [5, 6, 7, 8, 9]])\n",
            "b = array([[ 100,  200,  300,  400,  500],\n",
            "       [ 600,  700,  800,  900, 1000]])\n"
          ]
        }
      ]
    },
    {
      "cell_type": "markdown",
      "metadata": {
        "id": "WUc4W7zXlsSi"
      },
      "source": [
        "Operate on corresponding elements of a and b"
      ]
    },
    {
      "cell_type": "code",
      "metadata": {
        "id": "l5sbCnHUlsSj",
        "colab": {
          "base_uri": "https://localhost:8080/"
        },
        "outputId": "621eaf9d-91c8-4399-a605-b6ef34ae8603"
      },
      "source": [
        "a + b"
      ],
      "execution_count": 45,
      "outputs": [
        {
          "output_type": "execute_result",
          "data": {
            "text/plain": [
              "array([[ 100,  201,  302,  403,  504],\n",
              "       [ 605,  706,  807,  908, 1009]])"
            ]
          },
          "metadata": {},
          "execution_count": 45
        }
      ]
    },
    {
      "cell_type": "code",
      "metadata": {
        "id": "XrfLmt_3lsSp",
        "colab": {
          "base_uri": "https://localhost:8080/"
        },
        "outputId": "1879bdf2-9731-4f76-c768-328432b6324a"
      },
      "source": [
        "a * b"
      ],
      "execution_count": 46,
      "outputs": [
        {
          "output_type": "execute_result",
          "data": {
            "text/plain": [
              "array([[   0,  200,  600, 1200, 2000],\n",
              "       [3000, 4200, 5600, 7200, 9000]])"
            ]
          },
          "metadata": {},
          "execution_count": 46
        }
      ]
    },
    {
      "cell_type": "markdown",
      "metadata": {
        "id": "LHzMZue0lsSt"
      },
      "source": [
        "We can also use scalars as operands, which will be \"broadcast\" to every element."
      ]
    },
    {
      "cell_type": "code",
      "metadata": {
        "id": "uMMQc84dlsSv",
        "colab": {
          "base_uri": "https://localhost:8080/"
        },
        "outputId": "6b75cf46-3a85-4cae-e6e0-4adc4b7a0af8"
      },
      "source": [
        "a * 2"
      ],
      "execution_count": 47,
      "outputs": [
        {
          "output_type": "execute_result",
          "data": {
            "text/plain": [
              "array([[ 0,  2,  4,  6,  8],\n",
              "       [10, 12, 14, 16, 18]])"
            ]
          },
          "metadata": {},
          "execution_count": 47
        }
      ]
    },
    {
      "cell_type": "code",
      "metadata": {
        "id": "JHbA-iQ5lsSz",
        "colab": {
          "base_uri": "https://localhost:8080/"
        },
        "outputId": "a5709b7c-21eb-44c1-c4ed-cf2514adb684"
      },
      "source": [
        "b % 3"
      ],
      "execution_count": 48,
      "outputs": [
        {
          "output_type": "execute_result",
          "data": {
            "text/plain": [
              "array([[1, 2, 0, 1, 2],\n",
              "       [0, 1, 2, 0, 1]])"
            ]
          },
          "metadata": {},
          "execution_count": 48
        }
      ]
    },
    {
      "cell_type": "markdown",
      "metadata": {
        "id": "B6JGm6tnlsS3"
      },
      "source": [
        "### Matrix Math\n",
        "\n",
        "We can also do more complex math, that accounts for the shape of inputs. For example, matrix multiplication!"
      ]
    },
    {
      "cell_type": "code",
      "metadata": {
        "id": "UG2MAb6ylsS4",
        "colab": {
          "base_uri": "https://localhost:8080/"
        },
        "outputId": "9d85e7e7-4b68-4519-8c79-bbb4c06a3332"
      },
      "source": [
        "A = np.array( range(6) ). reshape((3,2))\n",
        "B = np.array( range(10,16) ). reshape((2,3))\n",
        "\n",
        "print(\"A =\", repr(A))\n",
        "print(\"B =\", repr(B))"
      ],
      "execution_count": 49,
      "outputs": [
        {
          "output_type": "stream",
          "name": "stdout",
          "text": [
            "A = array([[0, 1],\n",
            "       [2, 3],\n",
            "       [4, 5]])\n",
            "B = array([[10, 11, 12],\n",
            "       [13, 14, 15]])\n"
          ]
        }
      ]
    },
    {
      "cell_type": "code",
      "metadata": {
        "id": "ZnqwCBZtlsS_",
        "colab": {
          "base_uri": "https://localhost:8080/"
        },
        "outputId": "978703c9-1242-4933-f675-3c54fe93b378"
      },
      "source": [
        "np.matmul(A, B)"
      ],
      "execution_count": 50,
      "outputs": [
        {
          "output_type": "execute_result",
          "data": {
            "text/plain": [
              "array([[ 13,  14,  15],\n",
              "       [ 59,  64,  69],\n",
              "       [105, 114, 123]])"
            ]
          },
          "metadata": {},
          "execution_count": 50
        }
      ]
    },
    {
      "cell_type": "markdown",
      "metadata": {
        "id": "FTmJT3qLlsTD"
      },
      "source": [
        "Here we have multiplied a (3 x 2) matrix by a (2 x 3) matrix to get a (3 x 3). We can get a different result by multiplying the other way."
      ]
    },
    {
      "cell_type": "code",
      "metadata": {
        "id": "lsZUzJK7lsTE",
        "colab": {
          "base_uri": "https://localhost:8080/"
        },
        "outputId": "07a3649b-97c5-4f3d-e38b-c71a17f39edd"
      },
      "source": [
        "np.matmul(B,A)"
      ],
      "execution_count": 51,
      "outputs": [
        {
          "output_type": "execute_result",
          "data": {
            "text/plain": [
              "array([[ 70, 103],\n",
              "       [ 88, 130]])"
            ]
          },
          "metadata": {},
          "execution_count": 51
        }
      ]
    },
    {
      "cell_type": "markdown",
      "metadata": {
        "id": "M1vkrea_lsTH"
      },
      "source": [
        "You can also use the `@` operator for matrix multiplication"
      ]
    },
    {
      "cell_type": "code",
      "metadata": {
        "id": "EnEXc8vulsTH",
        "colab": {
          "base_uri": "https://localhost:8080/"
        },
        "outputId": "ad0166e0-fda9-4688-d53f-8a8943f1baa9"
      },
      "source": [
        "B @ A"
      ],
      "execution_count": 52,
      "outputs": [
        {
          "output_type": "execute_result",
          "data": {
            "text/plain": [
              "array([[ 70, 103],\n",
              "       [ 88, 130]])"
            ]
          },
          "metadata": {},
          "execution_count": 52
        }
      ]
    },
    {
      "cell_type": "markdown",
      "metadata": {
        "id": "f9s_XiIKlsTK"
      },
      "source": [
        "Some other useful operations:\n",
        "- Transpose: In fact, this is done so often there is a property `.T` of any matrix that computes the transpose\n",
        "- Inverse: In the linalg submodule (`numpy.linalg.inv`)\n",
        "\n",
        "Many other useful operators exist in numpy!\n"
      ]
    },
    {
      "cell_type": "code",
      "metadata": {
        "id": "RfV3qnjDlsTM",
        "colab": {
          "base_uri": "https://localhost:8080/"
        },
        "outputId": "a4120c2f-2a8a-44df-d1a8-e105cf90c244"
      },
      "source": [
        "# Some arbitrary matrix, maybe representing a system of equations\n",
        "A = np.array([\n",
        "    [3, 2, 1],\n",
        "    [4, 8, 2],\n",
        "    [1, 2, 3]\n",
        "])\n",
        "print(\"shape\", A.shape)\n",
        "print(repr(A))"
      ],
      "execution_count": 53,
      "outputs": [
        {
          "output_type": "stream",
          "name": "stdout",
          "text": [
            "shape (3, 3)\n",
            "array([[3, 2, 1],\n",
            "       [4, 8, 2],\n",
            "       [1, 2, 3]])\n"
          ]
        }
      ]
    },
    {
      "cell_type": "code",
      "metadata": {
        "id": "ste9G-a2lsTT",
        "colab": {
          "base_uri": "https://localhost:8080/"
        },
        "outputId": "1e716f1d-ea8e-4a4a-f645-7971063d2fc1"
      },
      "source": [
        "print(\"Transpose:\\n\", repr(A.T))"
      ],
      "execution_count": 54,
      "outputs": [
        {
          "output_type": "stream",
          "name": "stdout",
          "text": [
            "Transpose:\n",
            " array([[3, 4, 1],\n",
            "       [2, 8, 2],\n",
            "       [1, 2, 3]])\n"
          ]
        }
      ]
    },
    {
      "cell_type": "code",
      "metadata": {
        "id": "4MJiizuelsTV",
        "colab": {
          "base_uri": "https://localhost:8080/"
        },
        "outputId": "606b0cf6-aca8-4443-a533-0d94c4406740"
      },
      "source": [
        "A_inv = np.linalg.inv(A)\n",
        "print(\"Inverse:\", repr(A_inv), sep=\"\\n\")"
      ],
      "execution_count": 55,
      "outputs": [
        {
          "output_type": "stream",
          "name": "stdout",
          "text": [
            "Inverse:\n",
            "array([[ 0.5 , -0.1 , -0.1 ],\n",
            "       [-0.25,  0.2 , -0.05],\n",
            "       [ 0.  , -0.1 ,  0.4 ]])\n"
          ]
        }
      ]
    },
    {
      "cell_type": "markdown",
      "metadata": {
        "id": "z7-Sjw8JlsTZ"
      },
      "source": [
        "We expect that multiplying the inverse should yield the identity"
      ]
    },
    {
      "cell_type": "code",
      "metadata": {
        "id": "ADTlhhyClsTZ",
        "colab": {
          "base_uri": "https://localhost:8080/"
        },
        "outputId": "741833d6-ed49-46a7-9c0c-1d226a3576a9"
      },
      "source": [
        "maybe_identity = np.matmul(A_inv, A)\n",
        "maybe_identity"
      ],
      "execution_count": 56,
      "outputs": [
        {
          "output_type": "execute_result",
          "data": {
            "text/plain": [
              "array([[ 1.00000000e+00, -2.77555756e-16, -8.32667268e-17],\n",
              "       [ 4.16333634e-17,  1.00000000e+00,  1.38777878e-17],\n",
              "       [ 0.00000000e+00,  0.00000000e+00,  1.00000000e+00]])"
            ]
          },
          "metadata": {},
          "execution_count": 56
        }
      ]
    },
    {
      "cell_type": "markdown",
      "metadata": {
        "id": "1gQyebtklsTd"
      },
      "source": [
        "Since we're doing arithmetic with floats, we have small floating point errors. Let's use the elementwise `np.round`"
      ]
    },
    {
      "cell_type": "code",
      "metadata": {
        "id": "aofXjCn-lsTe",
        "colab": {
          "base_uri": "https://localhost:8080/"
        },
        "outputId": "71b64fd6-191f-44f9-f911-79f9c15ff3ae"
      },
      "source": [
        "np.round(maybe_identity)"
      ],
      "execution_count": 57,
      "outputs": [
        {
          "output_type": "execute_result",
          "data": {
            "text/plain": [
              "array([[ 1., -0., -0.],\n",
              "       [ 0.,  1.,  0.],\n",
              "       [ 0.,  0.,  1.]])"
            ]
          },
          "metadata": {},
          "execution_count": 57
        }
      ]
    },
    {
      "cell_type": "markdown",
      "metadata": {
        "id": "7-4In7ZklsTi"
      },
      "source": [
        "### Other Useful Functions"
      ]
    },
    {
      "cell_type": "markdown",
      "metadata": {
        "id": "2vQjTdJIlsTj"
      },
      "source": [
        "Other functions in Numpy that are useful:\n",
        "- sum: Adds all elements of an ndarray, or sums along a given dimension (\"axis\")\n",
        "- stack: joins two arrays in a new dimension\n",
        "- concatenate: joins two arrays in an existing dimension"
      ]
    },
    {
      "cell_type": "code",
      "metadata": {
        "id": "P5l--J5nlsTk",
        "colab": {
          "base_uri": "https://localhost:8080/"
        },
        "outputId": "6195802f-9eac-4b7e-8eea-a1d14174db6f"
      },
      "source": [
        "A = np.array(range(10)).reshape(2,5)\n",
        "A"
      ],
      "execution_count": 58,
      "outputs": [
        {
          "output_type": "execute_result",
          "data": {
            "text/plain": [
              "array([[0, 1, 2, 3, 4],\n",
              "       [5, 6, 7, 8, 9]])"
            ]
          },
          "metadata": {},
          "execution_count": 58
        }
      ]
    },
    {
      "cell_type": "code",
      "metadata": {
        "id": "4TBnwn6olsTm",
        "colab": {
          "base_uri": "https://localhost:8080/"
        },
        "outputId": "7e00da55-6261-4d92-e2fd-98a740442fa8"
      },
      "source": [
        "print(\"A's Shape is\", A.shape)\n",
        "col_sum = np.sum(A, axis = 0) # sums along rows\n",
        "row_sum = np.sum(A, axis = 1) # sums along columns\n",
        "total_sum = np.sum(A)\n",
        "print(\"Row sums (shape: %s) - sum all values on axis 1 (along the column)\" % str(row_sum.shape))\n",
        "print(repr(row_sum))\n",
        "print(\"Col sums (shape: %s) - sum all values on axis 0 (along the row)\" % str(col_sum.shape))\n",
        "print(repr(col_sum))\n",
        "print(\"Full array sum (scalar)\")\n",
        "print(repr(total_sum))"
      ],
      "execution_count": 59,
      "outputs": [
        {
          "output_type": "stream",
          "name": "stdout",
          "text": [
            "A's Shape is (2, 5)\n",
            "Row sums (shape: (2,)) - sum all values on axis 1 (along the column)\n",
            "array([10, 35])\n",
            "Col sums (shape: (5,)) - sum all values on axis 0 (along the row)\n",
            "array([ 5,  7,  9, 11, 13])\n",
            "Full array sum (scalar)\n",
            "np.int64(45)\n"
          ]
        }
      ]
    },
    {
      "cell_type": "markdown",
      "metadata": {
        "id": "qDOGS3dOlsTo"
      },
      "source": [
        "**Stacking Arrays**"
      ]
    },
    {
      "cell_type": "code",
      "metadata": {
        "id": "3eoEBIkBlsTo",
        "colab": {
          "base_uri": "https://localhost:8080/"
        },
        "outputId": "97312dcd-b4d2-4bbe-c85d-fcc7962a6e86"
      },
      "source": [
        "A = np.array((range(10))).reshape(2,5)\n",
        "B = np.array((range(10,20))).reshape(2,5)\n",
        "print(\"A=\",repr(A),sep=\"\\n\")\n",
        "print(\"B=\",repr(B),sep=\"\\n\")"
      ],
      "execution_count": 60,
      "outputs": [
        {
          "output_type": "stream",
          "name": "stdout",
          "text": [
            "A=\n",
            "array([[0, 1, 2, 3, 4],\n",
            "       [5, 6, 7, 8, 9]])\n",
            "B=\n",
            "array([[10, 11, 12, 13, 14],\n",
            "       [15, 16, 17, 18, 19]])\n"
          ]
        }
      ]
    },
    {
      "cell_type": "markdown",
      "metadata": {
        "id": "9SDMe68nlsTr"
      },
      "source": [
        "Stack arrays on a new axis"
      ]
    },
    {
      "cell_type": "code",
      "metadata": {
        "id": "qTXvlPq8lsTs",
        "colab": {
          "base_uri": "https://localhost:8080/"
        },
        "outputId": "36628ae1-3caf-4b30-acc6-feb888d7e40c"
      },
      "source": [
        "stacked = np.stack([A,B])\n",
        "print(\"A shape: %s  ---  B shape: %s  --->  stacked shape: %s\" % (A.shape, B.shape, stacked.shape))\n",
        "stacked"
      ],
      "execution_count": 61,
      "outputs": [
        {
          "output_type": "stream",
          "name": "stdout",
          "text": [
            "A shape: (2, 5)  ---  B shape: (2, 5)  --->  stacked shape: (2, 2, 5)\n"
          ]
        },
        {
          "output_type": "execute_result",
          "data": {
            "text/plain": [
              "array([[[ 0,  1,  2,  3,  4],\n",
              "        [ 5,  6,  7,  8,  9]],\n",
              "\n",
              "       [[10, 11, 12, 13, 14],\n",
              "        [15, 16, 17, 18, 19]]])"
            ]
          },
          "metadata": {},
          "execution_count": 61
        }
      ]
    },
    {
      "cell_type": "markdown",
      "metadata": {
        "id": "nlX3LjKylsTv"
      },
      "source": [
        "**Concatenating arrays** \\\n",
        "Concatenate arrays along an existing axis 0 (change only axis 0, rest of shape should be same)"
      ]
    },
    {
      "cell_type": "code",
      "metadata": {
        "id": "aG5GyJPrlsTw",
        "colab": {
          "base_uri": "https://localhost:8080/"
        },
        "outputId": "6c9f17f1-ba24-4a5f-8e04-3b4d93069d11"
      },
      "source": [
        "catted = np.concatenate([A,B], axis=0)\n",
        "print(\"A shape: %s  ---  B shape: %s  ---  catted shape (meow!): %s\" % (A.shape, B.shape, catted.shape))\n",
        "catted"
      ],
      "execution_count": 62,
      "outputs": [
        {
          "output_type": "stream",
          "name": "stdout",
          "text": [
            "A shape: (2, 5)  ---  B shape: (2, 5)  ---  catted shape (meow!): (4, 5)\n"
          ]
        },
        {
          "output_type": "execute_result",
          "data": {
            "text/plain": [
              "array([[ 0,  1,  2,  3,  4],\n",
              "       [ 5,  6,  7,  8,  9],\n",
              "       [10, 11, 12, 13, 14],\n",
              "       [15, 16, 17, 18, 19]])"
            ]
          },
          "metadata": {},
          "execution_count": 62
        }
      ]
    },
    {
      "cell_type": "markdown",
      "metadata": {
        "id": "2U99DsPdlsTy"
      },
      "source": [
        "# Matplotlib\n",
        "\n",
        "Matplotlib is a plotting library. `matplotlib.pyplot` exposes a stateful, easy to use, plotting system.\n",
        "\n",
        "Documentation: https://matplotlib.org/stable/index.html"
      ]
    },
    {
      "cell_type": "code",
      "metadata": {
        "id": "azOkUU7elsTy"
      },
      "source": [
        "import matplotlib\n",
        "import matplotlib.pyplot as plt"
      ],
      "execution_count": 63,
      "outputs": []
    },
    {
      "cell_type": "markdown",
      "metadata": {
        "id": "X04gLBijlsT2"
      },
      "source": [
        "### Plotting\n",
        "\n",
        "Let's make a simple 2d plot"
      ]
    },
    {
      "cell_type": "code",
      "metadata": {
        "id": "zYnaz3CilsT3",
        "colab": {
          "base_uri": "https://localhost:8080/",
          "height": 430
        },
        "outputId": "53479f43-f6dc-4f24-f3e3-ff39ca027f8b"
      },
      "source": [
        "# Compute the x and y coordinates for points on a sine curve\n",
        "x = np.arange(0, 3 * np.pi, 0.1)\n",
        "y = np.sin(x)\n",
        "\n",
        "# Plot the points using matplotlib\n",
        "plt.plot(x, y)\n",
        "plt.show()"
      ],
      "execution_count": 64,
      "outputs": [
        {
          "output_type": "display_data",
          "data": {
            "text/plain": [
              "<Figure size 640x480 with 1 Axes>"
            ],
            "image/png": "[encoded data removed]"
          },
          "metadata": {}
        }
      ]
    },
    {
      "cell_type": "markdown",
      "metadata": {
        "id": "JQWNg2MilsT6"
      },
      "source": [
        "With just a little bit of extra work we can easily plot multiple lines at once, and add a title, legend, and axis labels:"
      ]
    },
    {
      "cell_type": "code",
      "metadata": {
        "id": "c6pj9c2HlsT7",
        "colab": {
          "base_uri": "https://localhost:8080/",
          "height": 472
        },
        "outputId": "d985610c-730e-4664-8dad-ccc42cccc2d4"
      },
      "source": [
        "y_sin = np.sin(x)\n",
        "y_cos = np.cos(x)\n",
        "\n",
        "# Plot the points using matplotlib\n",
        "plt.plot(x, y_sin)\n",
        "plt.plot(x, y_cos)\n",
        "plt.xlabel('x axis label')\n",
        "plt.ylabel('y axis label')\n",
        "plt.title('Sine and Cosine')\n",
        "plt.legend(['Sine', 'Cosine'])\n",
        "plt.show()"
      ],
      "execution_count": 65,
      "outputs": [
        {
          "output_type": "display_data",
          "data": {
            "text/plain": [
              "<Figure size 640x480 with 1 Axes>"
            ],
            "image/png": "[encoded data removed]"
          },
          "metadata": {}
        }
      ]
    },
    {
      "cell_type": "markdown",
      "metadata": {
        "id": "tUmTvJD3lsT8"
      },
      "source": [
        "### Subplots\n",
        "\n",
        "You can plot different things in the same figure using the subplot function. Here is an example:"
      ]
    },
    {
      "cell_type": "code",
      "metadata": {
        "id": "cKlKQSeqlsT9",
        "colab": {
          "base_uri": "https://localhost:8080/",
          "height": 452
        },
        "outputId": "e3be89c7-feb7-4caa-d129-81671a8834fb"
      },
      "source": [
        "# Compute the x and y coordinates for points on sine and cosine curves\n",
        "x = np.arange(0, 3 * np.pi, 0.1)\n",
        "y_sin = np.sin(x)\n",
        "y_cos = np.cos(x)\n",
        "\n",
        "# Set up a subplot grid that has height 2 and width 1,\n",
        "# and set the first such subplot as active.\n",
        "plt.subplot(2, 1, 1)\n",
        "\n",
        "# Make the first plot\n",
        "plt.plot(x, y_sin)\n",
        "plt.title('Sine')\n",
        "\n",
        "# Set the second subplot as active, and make the second plot.\n",
        "plt.subplot(2, 1, 2)\n",
        "plt.plot(x, y_cos)\n",
        "plt.title('Cosine')\n",
        "\n",
        "# Show the figure.\n",
        "plt.show()"
      ],
      "execution_count": 66,
      "outputs": [
        {
          "output_type": "display_data",
          "data": {
            "text/plain": [
              "<Figure size 640x480 with 2 Axes>"
            ],
            "image/png": "[encoded data removed]"
          },
          "metadata": {}
        }
      ]
    },
    {
      "cell_type": "markdown",
      "metadata": {
        "id": "RfdV9IkflsT_"
      },
      "source": [
        "# OpenCV\n",
        "\n",
        "OpenCV is an extremely popular computer vision library built in C++, with many powerful tools for CV. It lets you read, write, and show images and videos, read from webcam streams, find matching keypoints between two images, and more.\n",
        "\n",
        "OpenCV is written in C++, however, there is a Python library that uses these optimized C++ libraries, and exposes an API using numpy arrays!\n",
        "\n",
        "Let's import OpenCV"
      ]
    },
    {
      "cell_type": "code",
      "metadata": {
        "id": "QvZMt995lsUA"
      },
      "source": [
        "import cv2"
      ],
      "execution_count": 67,
      "outputs": []
    },
    {
      "cell_type": "markdown",
      "metadata": {
        "id": "PFgfbGIAlsUD"
      },
      "source": [
        "## Reading, Writing, and Showing Images"
      ]
    },
    {
      "cell_type": "markdown",
      "metadata": {
        "id": "AKjPEnsTlsUD"
      },
      "source": [
        "### Reading\n",
        "\n",
        "You can use the `imread` function to read in an image from a filepath."
      ]
    },
    {
      "cell_type": "code",
      "metadata": {
        "id": "mhdy1tN_lsUE"
      },
      "source": [
        "phoenix_image = cv2.imread(os.path.join(rootpath, \"phoenix.jpg\"))"
      ],
      "execution_count": 70,
      "outputs": []
    },
    {
      "cell_type": "markdown",
      "metadata": {
        "id": "1J28iYBklsUF"
      },
      "source": [
        "Images in OpenCV are represented as numpy arrays!"
      ]
    },
    {
      "cell_type": "code",
      "metadata": {
        "id": "BklZk6RJlsUG",
        "colab": {
          "base_uri": "https://localhost:8080/"
        },
        "outputId": "9044948c-db85-4dce-9b86-21ce140ff0cf"
      },
      "source": [
        "type(phoenix_image), phoenix_image.shape, phoenix_image.dtype"
      ],
      "execution_count": 71,
      "outputs": [
        {
          "output_type": "execute_result",
          "data": {
            "text/plain": [
              "(numpy.ndarray, (1280, 720, 3), dtype('uint8'))"
            ]
          },
          "metadata": {},
          "execution_count": 71
        }
      ]
    },
    {
      "cell_type": "markdown",
      "metadata": {
        "id": "Yrp_h0RllsUI"
      },
      "source": [
        "### Channels, Image Formats, and using images as arrays\n",
        "The shape of a color image is (height, width, colors BGR) \\\n",
        "While it may seem strange that the height is first, it's because OpenCV treats images as \"Rows\" and \"Columns\" of an image. The \"height\" of an image is the number of rows!"
      ]
    },
    {
      "cell_type": "code",
      "metadata": {
        "id": "ik6aUO75lsUJ",
        "colab": {
          "base_uri": "https://localhost:8080/"
        },
        "outputId": "c12ba896-4e81-42a2-a21d-10990d02be9f"
      },
      "source": [
        "phoenix_image.shape"
      ],
      "execution_count": 72,
      "outputs": [
        {
          "output_type": "execute_result",
          "data": {
            "text/plain": [
              "(1280, 720, 3)"
            ]
          },
          "metadata": {},
          "execution_count": 72
        }
      ]
    },
    {
      "cell_type": "markdown",
      "metadata": {
        "id": "s7XtSj29lsUN"
      },
      "source": [
        "You can see each pixel is represented by 3 values (uint8 means they are between 0 and 255)"
      ]
    },
    {
      "cell_type": "code",
      "metadata": {
        "id": "CUOUHsFdlsUQ",
        "colab": {
          "base_uri": "https://localhost:8080/"
        },
        "outputId": "c83cf381-507e-4d5c-eb9f-72f2bd085b34"
      },
      "source": [
        "phoenix_image[0,0] # Get the pixel located at (0,0) from the top left"
      ],
      "execution_count": 73,
      "outputs": [
        {
          "output_type": "execute_result",
          "data": {
            "text/plain": [
              "array([0, 0, 0], dtype=uint8)"
            ]
          },
          "metadata": {},
          "execution_count": 73
        }
      ]
    },
    {
      "cell_type": "markdown",
      "metadata": {
        "id": "Fzc0htGqlsUU"
      },
      "source": [
        "Color images consist of \"channels\" - each color we can render is some combination of red, green, and blue (OR, in the case of a grayscale image, gray).\n",
        "\n",
        "There are other sets of channels - you'll learn about these in the Color lecture!\n",
        "\n",
        "By default, color images are opened by OpenCV as BGR, meaning the values for a given pixel are ordered \"blue, green, red\".\n",
        "\n",
        "We can use the `cv2.cvtColor` function to change which color system our image is in. This will appear shortly."
      ]
    },
    {
      "cell_type": "code",
      "metadata": {
        "id": "nYFD7gb1lsUV"
      },
      "source": [
        "phoenix_image_rgb = cv2.cvtColor(phoenix_image, cv2.COLOR_BGR2RGB)"
      ],
      "execution_count": 74,
      "outputs": []
    },
    {
      "cell_type": "markdown",
      "metadata": {
        "id": "uaa3_J_flsUY"
      },
      "source": [
        "### Showing the image"
      ]
    },
    {
      "cell_type": "markdown",
      "metadata": {
        "id": "C0QD2dOclsUZ"
      },
      "source": [
        "If you're running scripted Python (not Jupyter notebook) The `imshow` command will display an image. However, this doesn't work in jupyter notebook, so we'll use Matplotlib's `imshow` instead"
      ]
    },
    {
      "cell_type": "code",
      "metadata": {
        "id": "ZZdpYNjTlsUZ"
      },
      "source": [
        "# This line only works if you're running locally\n",
        "# cv2.imshow('test', phoenix_image)"
      ],
      "execution_count": 78,
      "outputs": []
    },
    {
      "cell_type": "markdown",
      "metadata": {
        "id": "H1eFaTIelsUb"
      },
      "source": [
        "Matplotlib assumes images are in the **RGB** format. OpenCV assumes that images are in the **BGR** format. So, we'll convert colors before showing the image. Let's make a function to do this."
      ]
    },
    {
      "cell_type": "code",
      "metadata": {
        "id": "q1M69bUGlsUc"
      },
      "source": [
        "def imshow(image, *args, **kwargs):\n",
        "    if len(image.shape) == 3:\n",
        "      # Height, width, channels\n",
        "      # Assume BGR, do a conversion since\n",
        "      image = cv2.cvtColor(image, cv2.COLOR_BGR2RGB)\n",
        "    else:\n",
        "      # Height, width - must be grayscale\n",
        "      # convert to RGB, since matplotlib will plot in a weird colormap (instead of black = 0, white = 1)\n",
        "      image = cv2.cvtColor(image, cv2.COLOR_GRAY2RGB)\n",
        "    # Draw the image\n",
        "    plt.imshow(image, *args, **kwargs)\n",
        "    # We'll also disable drawing the axes and tick marks in the plot, since it's actually an image\n",
        "    plt.axis('off')\n",
        "    # Make sure it outputs\n",
        "    plt.show()"
      ],
      "execution_count": 79,
      "outputs": []
    },
    {
      "cell_type": "markdown",
      "metadata": {
        "id": "-2-pNCzqlsUf"
      },
      "source": [
        "Let's show the image!"
      ]
    },
    {
      "cell_type": "code",
      "metadata": {
        "id": "nBlvKUMolsUg",
        "colab": {
          "base_uri": "https://localhost:8080/",
          "height": 406
        },
        "outputId": "ce779944-98a0-4a0b-a204-d00c182cf6d0"
      },
      "source": [
        "imshow(phoenix_image)"
      ],
      "execution_count": 80,
      "outputs": [
        {
          "output_type": "display_data",
          "data": {
            "text/plain": [
              "<Figure size 640x480 with 1 Axes>"
            ],
            "image/png": "[encoded data removed]"
          },
          "metadata": {}
        }
      ]
    },
    {
      "cell_type": "markdown",
      "metadata": {
        "id": "2HnYFtCOlsUi"
      },
      "source": [
        "### Manipulating images\n",
        "\n",
        "#### Changing color spaces\n",
        "\n",
        "OpenCV exposes several functions to work with images. Let's use the `cvtColor` function to convert the color image to gray. Grayscale images do not have a third dimension, instead, each pixel has a luminosity (\"whiteness\") value between 0 and 255"
      ]
    },
    {
      "cell_type": "code",
      "metadata": {
        "id": "BtholCvhlsUj",
        "colab": {
          "base_uri": "https://localhost:8080/",
          "height": 423
        },
        "outputId": "17a9a0b9-dbc5-48ff-e7d1-25ddb05e1e64"
      },
      "source": [
        "phoenix_gray = cv2.cvtColor(phoenix_image, cv2.COLOR_BGR2GRAY)\n",
        "\n",
        "print(\"Created BW image of shape\",phoenix_gray.shape)\n",
        "imshow(phoenix_gray)"
      ],
      "execution_count": 81,
      "outputs": [
        {
          "output_type": "stream",
          "name": "stdout",
          "text": [
            "Created BW image of shape (1280, 720)\n"
          ]
        },
        {
          "output_type": "display_data",
          "data": {
            "text/plain": [
              "<Figure size 640x480 with 1 Axes>"
            ],
            "image/png": "[encoded data removed]"
          },
          "metadata": {}
        }
      ]
    },
    {
      "cell_type": "markdown",
      "metadata": {
        "id": "xp2T7RjElsUl"
      },
      "source": [
        "We also can manipulate it by doing anything we would to a normal array. Let's make an image that includes the gray phoenix as the blue channel and red channels, and nothing in the green channels. (This is NOT the same as excluding the green channel from the original image)"
      ]
    },
    {
      "cell_type": "code",
      "metadata": {
        "id": "d1Zo26CFlsUm",
        "colab": {
          "base_uri": "https://localhost:8080/",
          "height": 423
        },
        "outputId": "3e25e831-fdb2-4d62-d990-6a1ff5b98841"
      },
      "source": [
        "empty_arr = np.zeros(phoenix_gray.shape, dtype=np.uint8)\n",
        "\n",
        "# Stack them, making the 3rd axis\n",
        "magenta_phoenix = np.stack([ phoenix_gray, empty_arr, phoenix_gray, ], axis=2)\n",
        "print(\"Created image of shape\",magenta_phoenix.shape)\n",
        "imshow(magenta_phoenix)"
      ],
      "execution_count": 82,
      "outputs": [
        {
          "output_type": "stream",
          "name": "stdout",
          "text": [
            "Created image of shape (1280, 720, 3)\n"
          ]
        },
        {
          "output_type": "display_data",
          "data": {
            "text/plain": [
              "<Figure size 640x480 with 1 Axes>"
            ],
            "image/png": "[encoded data removed]"
          },
          "metadata": {}
        }
      ]
    },
    {
      "cell_type": "markdown",
      "metadata": {
        "id": "YKLPU5EilsUo"
      },
      "source": [
        "#### Resizing images\n",
        "\n",
        "We can also resize images using `resize`. This needs the output size. Note that these are image sizes, which are expressed as (width, height), NOT to be confused with their shape."
      ]
    },
    {
      "cell_type": "code",
      "metadata": {
        "id": "IvNxmeKylsUq",
        "colab": {
          "base_uri": "https://localhost:8080/",
          "height": 423
        },
        "outputId": "7c26c2b5-f269-4874-f688-7874326a0db2"
      },
      "source": [
        "image_height, image_width, image_num_channels = magenta_phoenix.shape\n",
        "new_height = image_height * 2\n",
        "new_width = image_width * 3\n",
        "\n",
        "# Resize it to 3x the width, and 2x the height, so we expect some distortion.\n",
        "# (To display it in the browser, the image is being scaled down anyway, so resizing it 2 x 2 will not be obvious)\n",
        "\n",
        "bigger_magenta_phoenix = cv2.resize(magenta_phoenix, (new_width, new_height))\n",
        "print(\"Resized to image of shape\",bigger_magenta_phoenix.shape)\n",
        "imshow(bigger_magenta_phoenix)"
      ],
      "execution_count": 83,
      "outputs": [
        {
          "output_type": "stream",
          "name": "stdout",
          "text": [
            "Resized to image of shape (2560, 2160, 3)\n"
          ]
        },
        {
          "output_type": "display_data",
          "data": {
            "text/plain": [
              "<Figure size 640x480 with 1 Axes>"
            ],
            "image/png": "[encoded data removed]"
          },
          "metadata": {}
        }
      ]
    },
    {
      "cell_type": "markdown",
      "metadata": {
        "id": "gjWQYjYVlsUt"
      },
      "source": [
        "### Writing an Image"
      ]
    },
    {
      "cell_type": "markdown",
      "metadata": {
        "id": "6VM0EQJhlsUt"
      },
      "source": [
        "The `imwrite` function can write out an image. Let's write out the image we just made, so we can use it later!"
      ]
    },
    {
      "cell_type": "code",
      "metadata": {
        "id": "uB7vl5ehlsUu",
        "colab": {
          "base_uri": "https://localhost:8080/"
        },
        "outputId": "cadf4145-9aac-4962-fb37-f35ac2fd9259"
      },
      "source": [
        "output_path = os.path.join(rootpath, \"output_pinkphoenix.png\")\n",
        "cv2.imwrite(output_path, bigger_magenta_phoenix)"
      ],
      "execution_count": 86,
      "outputs": [
        {
          "output_type": "execute_result",
          "data": {
            "text/plain": [
              "True"
            ]
          },
          "metadata": {},
          "execution_count": 86
        }
      ]
    },
    {
      "cell_type": "markdown",
      "metadata": {
        "id": "OCG0F5m7lsUw"
      },
      "source": [
        "We should be able to read that image directly from the file. Let's try!"
      ]
    },
    {
      "cell_type": "code",
      "metadata": {
        "id": "T79N7N7DlsUx",
        "colab": {
          "base_uri": "https://localhost:8080/",
          "height": 423
        },
        "outputId": "66338230-a09b-4cba-8ed2-4dcaad80a29f"
      },
      "source": [
        "test_read_output = cv2.imread(output_path)\n",
        "print(\"Read file of shape:\",test_read_output.shape, \"type\",test_read_output.dtype)\n",
        "imshow(test_read_output)"
      ],
      "execution_count": 87,
      "outputs": [
        {
          "output_type": "stream",
          "name": "stdout",
          "text": [
            "Read file of shape: (2560, 2160, 3) type uint8\n"
          ]
        },
        {
          "output_type": "display_data",
          "data": {
            "text/plain": [
              "<Figure size 640x480 with 1 Axes>"
            ],
            "image/png": "[encoded data removed]"
          },
          "metadata": {}
        }
      ]
    },
    {
      "cell_type": "markdown",
      "metadata": {
        "id": "oEVrCiEQlsUz"
      },
      "source": [
        "Everything works as expected!"
      ]
    },
    {
      "cell_type": "markdown",
      "metadata": {
        "id": "clG-u520rvjJ"
      },
      "source": [
        "### Working with Video\n",
        "\n",
        "A video is nothing more than a series of images. We can use the `VideoCapture` object to read videos from webcams, IP cameras, and files. Since we're working in the cloud, we'll use files.\n",
        "\n",
        "We can use the `VideoWriter` object to write videos to a file. (If you were working locally, you could use `cv2.imshow` to display it in real time)\n",
        "\n",
        "Let's use what we've learned so far to crop the video!"
      ]
    },
    {
      "cell_type": "code",
      "metadata": {
        "id": "laInONEvs1UJ",
        "colab": {
          "base_uri": "https://localhost:8080/"
        },
        "outputId": "1f1aa7c3-27bf-496b-a097-829d91440e54"
      },
      "source": [
        "# function to crop a given frame\n",
        "def crop_frame(frame, crop_size):\n",
        "  # We're given a frame, either gray or RGB, and a crop-size (w,h)\n",
        "  crop_w, crop_h = crop_size\n",
        "  # This is an array! We can slice it\n",
        "  # Take the first pixels along the height, and along the width\n",
        "  cropped = frame[:crop_h, :crop_w]\n",
        "  return cropped\n",
        "\n",
        "capture = cv2.VideoCapture(os.path.join(rootpath, 'sample_video.mp4'))\n",
        "\n",
        "crop_size = (600, 400) # w,h\n",
        "output_path = os.path.join(rootpath, 'output_cropped.mp4')\n",
        "# Use the MJPG format\n",
        "output_format = cv2.VideoWriter_fourcc('M','P','4','V')\n",
        "output_fps = 30\n",
        "cropped_output = cv2.VideoWriter(output_path, output_format, output_fps, crop_size)\n",
        "n = 0\n",
        "while True:\n",
        "  successful, next_frame = capture.read()\n",
        "  if not successful:\n",
        "    # No more frames to read\n",
        "    print(\"Processed %d frames\" % n)\n",
        "    break\n",
        "  # We have an input frame. Use our function to crop it.\n",
        "  output_frame = crop_frame(next_frame, crop_size)\n",
        "  # Write the output frame to the output video\n",
        "  cropped_output.write(output_frame)\n",
        "  n += 1\n",
        "  # Now we have an image! We can process that as we would.\n",
        "\n",
        "# We have to give up the file at the end.\n",
        "capture.release()\n",
        "cropped_output.release()\n"
      ],
      "execution_count": 88,
      "outputs": [
        {
          "output_type": "stream",
          "name": "stdout",
          "text": [
            "Processed 132 frames\n"
          ]
        }
      ]
    },
    {
      "cell_type": "markdown",
      "metadata": {
        "id": "LkDYJvPv6HKU"
      },
      "source": [
        "### Display the Video\n",
        "\n",
        "Unfortunately, it's rather difficult to display videos in Jupyter, so check your google drive!"
      ]
    },
    {
      "cell_type": "markdown",
      "metadata": {
        "id": "tXV5YxS7lsU2"
      },
      "source": [
        "# Exercises\n",
        "\n",
        "All of these exercises are doable with the information you've been presented thus far.\n"
      ]
    },
    {
      "cell_type": "markdown",
      "metadata": {
        "id": "eLZxOOH-lsU3"
      },
      "source": [
        "## Exercise 1\n",
        "**Grading students**\n",
        "Consider a class with `num_students` students. Each student has `num_grades` grades, one for each assignment.\n",
        "The staff store our grades in a numpy ndarray, of shape `(num_students, num_grades)`. (Each row is a student, each column is an assignment)\n",
        "\n",
        "**(a)** Create an ndarray of the proper shape to hold the grades table, and fill it with the values `[0, num_students * num_grades)`, going left-to-right, then top-to-bottom.\n",
        "\n",
        "**(b)** We have a meeting with Julie, whose student index is `2`, and want to see how she's doing in the class. Use ndarray slicing to get an array containing all of her grades (index 2).\n",
        "\n",
        "**(c)** Phillip wants to know if PSet 4 (assignment index 4) is too hard. Use ndarray slicing to extract the whole classes grades for PSet 4."
      ]
    },
    {
      "cell_type": "code",
      "metadata": {
        "id": "w4oSQJq1lsU4",
        "colab": {
          "base_uri": "https://localhost:8080/"
        },
        "outputId": "3db569e4-7c9d-49f5-85db-43ccd9220fb4"
      },
      "source": [
        "num_students = 4\n",
        "num_assignments = 5\n",
        "\n",
        "# Write your solution below.\n",
        "#part a\n",
        "grades = np.array(range(num_students * num_assignments)).reshape(num_students, num_assignments)\n",
        "print(\"Grades:\",repr(grades))\n",
        "\n",
        "#part b\n",
        "print(\"\\nJulie's grades:\",repr(grades[2]))\n",
        "\n",
        "#part c\n",
        "print(\"\\nClass grades for PSet 4:\",repr(grades[:,4]))\n"
      ],
      "execution_count": 106,
      "outputs": [
        {
          "output_type": "stream",
          "name": "stdout",
          "text": [
            "Grades: array([[ 0,  1,  2,  3,  4],\n",
            "       [ 5,  6,  7,  8,  9],\n",
            "       [10, 11, 12, 13, 14],\n",
            "       [15, 16, 17, 18, 19]])\n",
            "\n",
            "Julie's grades: array([10, 11, 12, 13, 14])\n",
            "\n",
            "Class grades for PSet 4: array([ 4,  9, 14, 19])\n"
          ]
        }
      ]
    },
    {
      "cell_type": "markdown",
      "metadata": {
        "id": "JHyGmaqu9kTd"
      },
      "source": [
        "# Exercise 2\n",
        "\n",
        "**Find Sub-array** Make a 10-by-10 array with numbers from 0 to 100 using np.random.random().\n",
        "\n",
        "Find the 3-by-3 sub-array with the maximum sum. Be careful to keep all your operations in bounds."
      ]
    },
    {
      "cell_type": "code",
      "metadata": {
        "id": "FZickyq-9n-9",
        "colab": {
          "base_uri": "https://localhost:8080/"
        },
        "outputId": "1c51aa89-86e9-4b40-d21a-243e1fc68dfc"
      },
      "source": [
        "a = np.array(np.random.random((10,10)))\n",
        "a\n",
        "\n",
        "max_sum=float('-inf')\n",
        "max_coordinates=(0,0)\n",
        "\n",
        "#solution to sub-array\n",
        "for row in range(8):\n",
        "  for col in range(8):\n",
        "    sub_array = a[row:row+3, col:col+3]\n",
        "    subarr_sum=sub_array.sum()\n",
        "\n",
        "    if subarr_sum>max_sum:\n",
        "      max_sum=subarr_sum\n",
        "      max_coordinates=(row,col)\n",
        "\n",
        "start_row, start_col = max_coordinates    #startting row and column for maximum sum sub-array\n",
        "\n",
        "print(f\"Maximum 3x3 sub-array sum: {max_sum}\")\n",
        "print(\"\\nSub-array with maximum sum:\")\n",
        "for i in range(3):\n",
        "    print(a[start_row + i][start_col:start_col + 3])"
      ],
      "execution_count": 101,
      "outputs": [
        {
          "output_type": "stream",
          "name": "stdout",
          "text": [
            "Maximum 3x3 sub-array sum: 6.533721066314636\n",
            "\n",
            "Sub-array with maximum sum:\n",
            "[0.64162888 0.56887247 0.75669017]\n",
            "[0.86579828 0.76648194 0.75092854]\n",
            "[0.74189019 0.99445727 0.44697332]\n"
          ]
        }
      ]
    },
    {
      "cell_type": "code",
      "source": [
        "#solution with 4x4 matrix\n",
        "a = np.array(np.random.random((4,4)))\n",
        "a\n",
        "\n",
        "max_sum=float('-inf')\n",
        "max_coordinates=(0,0)\n",
        "\n",
        "#solution to sub-array\n",
        "for row in range(2):\n",
        "  for col in range(2):\n",
        "    sub_array = a[row:row+2, col:col+2]\n",
        "    subarr_sum=sub_array.sum()\n",
        "\n",
        "    if subarr_sum>max_sum:\n",
        "      max_sum=subarr_sum\n",
        "      max_coordinates=(row,col)\n",
        "\n",
        "start_row, start_col = max_coordinates    #startting row and column for maximum sum sub-array\n",
        "\n",
        "print(f\"Maximum 3x3 sub-array sum: {max_sum}\")\n",
        "print(\"\\nSub-array with maximum sum:\")\n",
        "for i in range(2):\n",
        "    print(a[start_row + i][start_col:start_col + 2])"
      ],
      "metadata": {
        "colab": {
          "base_uri": "https://localhost:8080/"
        },
        "id": "s-F7Px99MJlx",
        "outputId": "0a92ce5a-4c0e-491c-f98f-3ffff41235df"
      },
      "execution_count": 102,
      "outputs": [
        {
          "output_type": "stream",
          "name": "stdout",
          "text": [
            "Maximum 3x3 sub-array sum: 2.679826190373541\n",
            "\n",
            "Sub-array with maximum sum:\n",
            "[0.98853209 0.8991813 ]\n",
            "[0.58254683 0.20956597]\n"
          ]
        }
      ]
    },
    {
      "cell_type": "markdown",
      "metadata": {
        "id": "1-YEM3t2lsU-"
      },
      "source": [
        "# Exercise 3\n",
        "**Pose Estimation** The 6.869 staff have developed a ground-breaking pose estimation network. The output of the network is a matrix of shape `(num_keypoints, 3)` (each row is a key point on the body, the columns are X,Y,Z). A \"joint\" is a connection between two keypoints, expressed as a matrix of shape `(num_joints, 2)`, (each row is a joint, the columns are START_KEYPOINT_INDEX and END_KEYPOINT_INDEX).\n",
        "\n",
        "**(a)** Create a matrix of joint starts, and another matrix of joint ends, each of shape `(num_joints, 3)`. The starts table should contain the position of the start of each joint (according to `position`)  \n",
        "\n",
        "**(b)** Create a matrix of joint-displacements, of shape `(num_joints, 3)`. Each row represents a joint. The columns should be the difference in X, Y, and Z between the start of the joint, and the end of the joint, respectively `(endX - startX, endY - startY, endZ-startZ)`.\n",
        "\n",
        "**(c)** Find the magnitude (length) of each of these displacement vectors, and output the results in an array of length `num_joints`\n"
      ]
    },
    {
      "cell_type": "code",
      "metadata": {
        "id": "w028LM6llsU_",
        "colab": {
          "base_uri": "https://localhost:8080/"
        },
        "outputId": "f3bbcd08-dda8-4370-8deb-5a3ef9d16bc8"
      },
      "source": [
        "num_keypoints = 7\n",
        "num_joints = 6\n",
        "\n",
        "\n",
        "# All Z's in one plane, but makes it easier to see XYZ vs Start/end\n",
        "keypoint_positions = np.array(\n",
        "    [\n",
        "        [0, 1, 0], #Head\n",
        "        [0, 0, 0], #Torso\n",
        "        [1, 0, 0], #Right Arm\n",
        "        [-1, 0, 0], #Left Arm\n",
        "        [0, -1, 0], #Lower ,Torso\n",
        "        [1, -2, 0], #Right Leg\n",
        "        [-1, -2, 0] #Left Leg\n",
        "    ]\n",
        ")\n",
        "\n",
        "#   O\n",
        "#  _|_\n",
        "#   |\n",
        "#  /\\\n",
        "joints = np.array([\n",
        "    # Head to torso\n",
        "    [0, 1],\n",
        "    # Torso to Right arm\n",
        "    [1, 2],\n",
        "    # Torso to Left Arm\n",
        "    [1, 3],\n",
        "    # Torso to Lower Torso\n",
        "    [1, 4],\n",
        "    # Lower Torso to Right Leg\n",
        "    [4, 5],\n",
        "    # Lower Torso to Left Leg\n",
        "    [4, 6]\n",
        "])\n",
        "\n",
        "\n",
        "# Write your solution below.\n",
        "\n",
        "#part a\n",
        "# first column of joints contains the starting keypoint indices\n",
        "joint_starts_indices = joints[:, 0]\n",
        "joint_starts = keypoint_positions[joint_starts_indices]\n",
        "\n",
        "# second column of joints contains the ending keypoint indices\n",
        "joint_ends_indices = joints[:, 1]\n",
        "joint_ends = keypoint_positions[joint_ends_indices]\n",
        "\n",
        "print(\"(a) Joint starts matrix:\")\n",
        "print(joint_starts)\n",
        "print(\"\\n(a) Joint ends matrix:\")\n",
        "print(joint_ends)\n"
      ],
      "execution_count": 103,
      "outputs": [
        {
          "output_type": "stream",
          "name": "stdout",
          "text": [
            "(a) Joint starts matrix:\n",
            "[[ 0  1  0]\n",
            " [ 0  0  0]\n",
            " [ 0  0  0]\n",
            " [ 0  0  0]\n",
            " [ 0 -1  0]\n",
            " [ 0 -1  0]]\n",
            "\n",
            "(a) Joint ends matrix:\n",
            "[[ 0  0  0]\n",
            " [ 1  0  0]\n",
            " [-1  0  0]\n",
            " [ 0 -1  0]\n",
            " [ 1 -2  0]\n",
            " [-1 -2  0]]\n"
          ]
        }
      ]
    },
    {
      "cell_type": "code",
      "metadata": {
        "id": "rW4O5fiQ-U_t",
        "colab": {
          "base_uri": "https://localhost:8080/"
        },
        "outputId": "ac242ad1-f041-4457-94d7-75ae351a8cf8"
      },
      "source": [
        "#part b\n",
        "joint_displacements = joint_ends - joint_starts\n",
        "\n",
        "print(\"\\n(b) Joint displacements matrix:\")\n",
        "print(joint_displacements)"
      ],
      "execution_count": 104,
      "outputs": [
        {
          "output_type": "stream",
          "name": "stdout",
          "text": [
            "\n",
            "(b) Joint displacements matrix:\n",
            "[[ 0 -1  0]\n",
            " [ 1  0  0]\n",
            " [-1  0  0]\n",
            " [ 0 -1  0]\n",
            " [ 1 -1  0]\n",
            " [-1 -1  0]]\n"
          ]
        }
      ]
    },
    {
      "cell_type": "code",
      "source": [
        "#part c\n",
        "joint_lengths = np.linalg.norm(joint_displacements, axis=1)\n",
        "\n",
        "print(\"\\n(c) Joint lengths (magnitudes):\")\n",
        "print(joint_lengths)"
      ],
      "metadata": {
        "colab": {
          "base_uri": "https://localhost:8080/"
        },
        "id": "gU3W4u4kNjRE",
        "outputId": "030b742b-5327-49d8-f05e-a09d8af8b8e0"
      },
      "execution_count": 105,
      "outputs": [
        {
          "output_type": "stream",
          "name": "stdout",
          "text": [
            "\n",
            "(c) Joint lengths (magnitudes):\n",
            "[1.         1.         1.         1.         1.41421356 1.41421356]\n"
          ]
        }
      ]
    }
  ]
}